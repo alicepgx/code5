{
  "nbformat": 4,
  "nbformat_minor": 0,
  "metadata": {
    "colab": {
      "provenance": [],
      "toc_visible": true
    },
    "kernelspec": {
      "name": "python3",
      "display_name": "Python 3"
    },
    "language_info": {
      "name": "python"
    }
  },
  "cells": [
    {
      "cell_type": "code",
      "execution_count": 7,
      "metadata": {
        "id": "xq7fB76BGxVt"
      },
      "outputs": [],
      "source": [
        "from cryptography.hazmat.primitives.asymmetric import ec\n",
        "from cryptography.hazmat.primitives import serialization, hashes\n",
        "from cryptography.hazmat.primitives.kdf.hkdf import HKDF\n",
        "from cryptography.hazmat.primitives.ciphers import Cipher, algorithms, modes\n",
        "from cryptography.hazmat.primitives.asymmetric import padding\n",
        "from cryptography.exceptions import InvalidSignature\n",
        "from cryptography.hazmat.backends import default_backend\n"
      ]
    },
    {
      "cell_type": "code",
      "source": [
        "# Generated keys ECC\n",
        "private_key = ec.generate_private_key(ec.SECP384R1(), default_backend())\n",
        "public_key = private_key.public_key()\n",
        "\n",
        "# Function for signature message\n",
        "def sign_message(private_key, message):\n",
        "    signature = private_key.sign(\n",
        "        message,\n",
        "        ec.ECDSA(hashes.SHA256())\n",
        "    )\n",
        "    return signature\n",
        "\n",
        "# Function to verify the message signature\n",
        "def verify_signature(public_key, message, signature):\n",
        "    try:\n",
        "        public_key.verify(\n",
        "            signature,\n",
        "            message,\n",
        "            ec.ECDSA(hashes.SHA256())\n",
        "        )\n",
        "        return True\n",
        "    except InvalidSignature:\n",
        "        return False\n",
        "\n",
        "# Function for encrypted message\n",
        "def encrypt_message(key, message):\n",
        "    cipher = Cipher(algorithms.AES(key), modes.CFB8(b'0000000000000000'), backend=default_backend())\n",
        "    encryptor = cipher.encryptor()\n",
        "    return encryptor.update(message) + encryptor.finalize()\n",
        "\n",
        "# Function for decrypted message\n",
        "def decrypt_message(key, ciphertext):\n",
        "    cipher = Cipher(algorithms.AES(key), modes.CFB8(b'0000000000000000'), backend=default_backend())\n",
        "    decryptor = cipher.decryptor()\n",
        "    return decryptor.update(ciphertext) + decryptor.finalize()\n",
        "\n",
        "# Message encrypred\n",
        "original_message = b\"secret message\"\n",
        "\n",
        "# Signature of message\n",
        "signature = sign_message(private_key, original_message)\n",
        "print(\"Signature of original message :\", signature)\n",
        "\n",
        "# Generated from secret shared from the recipient's private key and public key\n",
        "shared_secret = private_key.exchange(ec.ECDH(), public_key)\n",
        "\n",
        "# Using HKDF to derive a key from the shared secret\n",
        "derived_key = HKDF(\n",
        "    algorithm=hashes.SHA256(),\n",
        "    length=32,\n",
        "    salt=None,\n",
        "    info=b'handshake data',\n",
        "    backend=default_backend()\n",
        ").derive(shared_secret)\n",
        "\n",
        "# Encrypted message\n",
        "encrypted_message = encrypt_message(derived_key, original_message)\n",
        "print(\" encrypted Message:\", encrypted_message)\n",
        "\n",
        "# Decrypted message\n",
        "decrypted_message = decrypt_message(derived_key, encrypted_message)\n",
        "print(\" decrypted message:\", decrypted_message)\n",
        "\n",
        "# Signature Verification\n",
        "if not verify_signature(public_key, decrypted_message, signature):\n",
        "    raise ValueError(\" verification of the signature is failed .\")\n",
        "\n",
        "# Display\n",
        "print(\"Processus of encrypted and decrypted is a succes.\")\n",
        "print(\" original message:\", original_message)\n",
        "print(\" decrypted message :\", decrypted_message)\n"
      ],
      "metadata": {
        "colab": {
          "base_uri": "https://localhost:8080/"
        },
        "id": "57BM9TQwHXwP",
        "outputId": "e5e45a5e-6e89-42b5-f6af-5be807cb8974"
      },
      "execution_count": 8,
      "outputs": [
        {
          "output_type": "stream",
          "name": "stdout",
          "text": [
            "Signature of original message : b\"0e\\x020W\\x9d\\xd4kC\\xa5}\\xed`\\x8eB\\x1fBH<\\x84\\x15\\x11\\xacn\\xb4HY\\xfb\\x98\\x80u<*\\xf4'%\\x9eI\\xb7\\xb3\\xa2\\xc5#\\x9e\\xe6\\x02\\xb0\\xaa\\xe5\\x1d$G\\x021\\x00\\xae\\x08\\x8bs\\x1a\\xc0\\xf4\\xfdk\\xc1\\x82\\xf7&\\x85\\x90\\x86v\\x16r&\\xbd\\xc9\\xe2\\x13\\xe4\\xbc\\xf4\\x8cM?.\\xb8\\nl\\x00%\\x1b\\xdb\\xb7hUL\\xb0s\\x93J\\x12|\"\n",
            " encrypted Message: b'\\xb5f\\xa8\\x83\\xff\\\\qn\\xb1\\xb9\\x94oj\\xa7'\n",
            " decrypted message: b'secret message'\n",
            "Processus of encrypted and decrypted is a succes.\n",
            " original message: b'secret message'\n",
            " decrypted message : b'secret message'\n"
          ]
        }
      ]
    },
    {
      "cell_type": "code",
      "source": [],
      "metadata": {
        "id": "sbUY8UWYUTms"
      },
      "execution_count": null,
      "outputs": []
    }
  ]
}